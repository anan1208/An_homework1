{
 "cells": [
  {
   "cell_type": "markdown",
   "metadata": {
    "id": "uXGll28asvFS"
   },
   "source": [
    "# 作業 "
   ]
  },
  {
   "cell_type": "markdown",
   "metadata": {
    "id": "SYkvkp9YLwB7"
   },
   "source": [
    "### 1. [簡答題] 請問下列兩種將 Array 轉換成 List 的方式有何不同？\n",
    "\n",
    "```\n",
    "print('list(a): ', list(a))\n",
    "print('tolist(): ', a.tolist())\n",
    "```\n"
   ]
  },
  {
   "cell_type": "code",
   "execution_count": 3,
   "metadata": {
    "id": "5QrYoyNWsvFS",
    "outputId": "13f374d0-6f1b-47aa-bbac-c7d1a8c6995c",
    "scrolled": true
   },
   "outputs": [
    {
     "name": "stdout",
     "output_type": "stream",
     "text": [
      "list(a):  [array([0, 1, 2]), array([3, 4, 5]), array([6, 7, 8]), array([ 9, 10, 11]), array([12, 13, 14])]\n",
      "list()只會轉換陣列的第一層\n",
      "tolist():  [[0, 1, 2], [3, 4, 5], [6, 7, 8], [9, 10, 11], [12, 13, 14]]\n",
      "tolist()則會轉換陣列的所有層別\n"
     ]
    }
   ],
   "source": [
    "import numpy as np\n",
    "a = np.arange( 15 ).reshape( 5 , 3 )\n",
    "print('list(a): ', list(a))\n",
    "print('list()只會轉換陣列的第一層')\n",
    "print('tolist(): ', a.tolist())\n",
    "print('tolist()則會轉換陣列的所有層別')"
   ]
  },
  {
   "cell_type": "markdown",
   "metadata": {
    "id": "AC9wUCyALwB9"
   },
   "source": [
    "### 2. 請試著在程式中印出以下三個 NdArray 的屬性並且解釋結果？（屬性：ndim、shape、size、dtype、itemsize、length、type）\n",
    "\n",
    "```\n",
    "a = np.random.randint(10, size=6) \n",
    "b = np.random.randint(10, size=(3,4)) \n",
    "c = np.random.randint(10, size=(2,3,2)) \n",
    "```"
   ]
  },
  {
   "cell_type": "code",
   "execution_count": 9,
   "metadata": {
    "id": "4qARRsdtLwB-"
   },
   "outputs": [],
   "source": [
    "# 記得先 Import 正確的套件\n",
    "\n",
    "import numpy as np"
   ]
  },
  {
   "cell_type": "code",
   "execution_count": 13,
   "metadata": {
    "id": "e1gVI0tvsvFY",
    "outputId": "9be10770-9042-40c8-c4bc-217b84be9fc9"
   },
   "outputs": [
    {
     "name": "stdout",
     "output_type": "stream",
     "text": [
      "[1 1 2 6 4 0]\n",
      "1 #表示陣列維度\n",
      "(6,) #表示每一維度的大小\n",
      "6 #表示陣列長度\n",
      "int32 #表示陣列中元素的型態\n",
      "4 #表示每一元素所佔空間\n",
      "6 #表示陣列長度\n",
      "<class 'numpy.ndarray'> #表示陣列型態\n"
     ]
    }
   ],
   "source": [
    "\n",
    "a = np.random.randint(10, size=6) \n",
    "print(a)\n",
    "print(a.ndim,'#表示陣列維度')\n",
    "print(a.shape, '#表示每一維度的大小')\n",
    "print(a.size, '#表示元素個數')\n",
    "print(a.dtype, '#表示陣列中元素的型態')\n",
    "print(a.itemsize, '#表示每一元素所佔空間')\n",
    "print(len(a), '#表示陣列長度,非元素個數')\n",
    "print(type(a), '#表示陣列型態')"
   ]
  },
  {
   "cell_type": "code",
   "execution_count": 12,
   "metadata": {
    "id": "iIJrIr7kLwB_",
    "outputId": "083c5519-394c-404e-9764-100c4ed5118a"
   },
   "outputs": [
    {
     "name": "stdout",
     "output_type": "stream",
     "text": [
      "[[2 0 8 7]\n",
      " [7 4 7 7]\n",
      " [2 1 2 2]]\n",
      "2 #表示陣列維度\n",
      "(3, 4) #表示每一維度的大小\n",
      "12 #表示陣列長度\n",
      "int32 #表示陣列中元素的型態\n",
      "4 #表示每一元素所佔空間\n",
      "3 #表示陣列長度\n",
      "<class 'numpy.ndarray'> #表示陣列型態\n"
     ]
    }
   ],
   "source": [
    "b = np.random.randint(10, size=(3,4)) \n",
    "print(b)\n",
    "print(b.ndim,'#表示陣列維度')\n",
    "print(b.shape, '#表示每一維度的大小')\n",
    "print(b.size, '#表示元素個數')\n",
    "print(b.dtype, '#表示陣列中元素的型態')\n",
    "print(b.itemsize, '#表示每一元素所佔空間')\n",
    "print(len(b), '#表示陣列長度,非元素個數')\n",
    "print(type(b), '#表示陣列型態')"
   ]
  },
  {
   "cell_type": "code",
   "execution_count": 15,
   "metadata": {
    "id": "98SRFh_FLwCC",
    "outputId": "dc65dfac-9ae6-49d2-f854-88eccebc2aac"
   },
   "outputs": [
    {
     "name": "stdout",
     "output_type": "stream",
     "text": [
      "[[[8 8]\n",
      "  [3 5]\n",
      "  [9 3]]\n",
      "\n",
      " [[0 4]\n",
      "  [1 7]\n",
      "  [8 2]]]\n",
      "3 #表示陣列維度\n",
      "(2, 3, 2) #表示每一維度的大小\n",
      "12 #表示元素個數\n",
      "int32 #表示陣列中元素的型態\n",
      "4 #表示每一元素所佔空間\n",
      "2 #表示陣列長度,非元素個數\n",
      "<class 'numpy.ndarray'> #表示陣列型態\n"
     ]
    }
   ],
   "source": [
    "c = np.random.randint(10, size=(2,3,2)) \n",
    "print(c)\n",
    "print(c.ndim,'#表示陣列維度')\n",
    "print(c.shape, '#表示每一維度的大小')\n",
    "print(c.size, '#表示元素個數')\n",
    "print(c.dtype, '#表示陣列中元素的型態')\n",
    "print(c.itemsize, '#表示每一元素所佔空間')\n",
    "print(len(c), '#表示陣列長度,非元素個數')\n",
    "print(type(c), '#表示陣列型態')"
   ]
  },
  {
   "cell_type": "markdown",
   "metadata": {
    "id": "Uf6zC0QZLwCE"
   },
   "source": [
    "### 3. 如何利用 list(...) 實現 a.tolist() 的效果？試著用程式實作。\n"
   ]
  },
  {
   "cell_type": "code",
   "execution_count": null,
   "metadata": {
    "id": "sCUzHu_BLwCF",
    "outputId": "ba9c8945-8efb-42b1-f978-2bbdda97accd"
   },
   "outputs": [
    {
     "name": "stdout",
     "output_type": "stream",
     "text": [
      "[7, 6, 7, 3, 7, 5]\n",
      "[7, 6, 7, 3, 7, 5]\n"
     ]
    }
   ],
   "source": [
    "a = np.random.randint(10, size=6) \n",
    "\n",
    "print(a.tolist())\n",
    "print(list(a))\n"
   ]
  },
  {
   "cell_type": "code",
   "execution_count": null,
   "metadata": {
    "id": "IUkVtw8RLwCG",
    "outputId": "e39875a5-5ec7-431b-c12a-485acc167e44"
   },
   "outputs": [
    {
     "name": "stdout",
     "output_type": "stream",
     "text": [
      "[[5, 7, 4, 6], [9, 4, 0, 1], [9, 1, 2, 9]]\n",
      "[array([5, 7, 4, 6]), array([9, 4, 0, 1]), array([9, 1, 2, 9])]\n"
     ]
    }
   ],
   "source": [
    "b = np.random.randint(10, size=(3,4)) \n",
    "\n",
    "print(b.tolist())\n",
    "print(list(b))\n"
   ]
  },
  {
   "cell_type": "code",
   "execution_count": null,
   "metadata": {
    "id": "NPhF8_CqLwCG",
    "outputId": "51fab908-5bfd-415f-9584-92bb376648c8"
   },
   "outputs": [
    {
     "name": "stdout",
     "output_type": "stream",
     "text": [
      "[[[0, 4], [0, 1], [9, 5]], [[8, 7], [8, 2], [6, 0]]]\n",
      "[array([[0, 4],\n",
      "       [0, 1],\n",
      "       [9, 5]]), array([[8, 7],\n",
      "       [8, 2],\n",
      "       [6, 0]])]\n"
     ]
    }
   ],
   "source": [
    "c = np.random.randint(10, size=(2,3,2)) \n",
    "\n",
    "print(c.tolist())\n",
    "print(list(c))\n"
   ]
  },
  {
   "cell_type": "code",
   "execution_count": 19,
   "metadata": {
    "id": "3Hc8vQYtLwCH",
    "outputId": "1290bc93-84ca-4da4-eb1a-315da37afaff"
   },
   "outputs": [
    {
     "name": "stdout",
     "output_type": "stream",
     "text": [
      "[1, 1, 2, 6, 4, 0]\n",
      "[[2, 0, 8, 7], [7, 4, 7, 7], [2, 1, 2, 2]]\n",
      "[[[8, 8], [3, 5], [9, 3]], [[0, 4], [1, 7], [8, 2]]]\n"
     ]
    }
   ],
   "source": [
    "print(tolist(a))\n",
    "print(tolist(b))\n",
    "print(tolist(c))"
   ]
  },
  {
   "cell_type": "code",
   "execution_count": 23,
   "metadata": {
    "id": "2lDVOwFpLwCJ",
    "outputId": "ddfa84e4-3d32-4a68-c250-f57b2f66d830"
   },
   "outputs": [
    {
     "name": "stdout",
     "output_type": "stream",
     "text": [
      "[1, 1, 2, 6, 4, 0]\n",
      "[[2, 0, 8, 7], [7, 4, 7, 7], [2, 1, 2, 2]]\n",
      "[[[8, 8], [3, 5], [9, 3]], [[0, 4], [1, 7], [8, 2]]]\n"
     ]
    }
   ],
   "source": [
    "def list(index):\n",
    "    return index.tolist()\n",
    "print('透過function修改list功用')\n",
    "print(list(a))\n",
    "print(list(b))\n",
    "print(list(c))"
   ]
  }
 ],
 "metadata": {
  "colab": {
   "name": "01Homework_維元.ipynb",
   "provenance": []
  },
  "kernelspec": {
   "display_name": "Python 3",
   "language": "python",
   "name": "python3"
  },
  "language_info": {
   "codemirror_mode": {
    "name": "ipython",
    "version": 3
   },
   "file_extension": ".py",
   "mimetype": "text/x-python",
   "name": "python",
   "nbconvert_exporter": "python",
   "pygments_lexer": "ipython3",
   "version": "3.8.5"
  }
 },
 "nbformat": 4,
 "nbformat_minor": 1
}
